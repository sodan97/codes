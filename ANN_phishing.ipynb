{
  "nbformat": 4,
  "nbformat_minor": 0,
  "metadata": {
    "colab": {
      "provenance": [],
      "authorship_tag": "ABX9TyOv2KKAI4N4damwLJi9Nk1Z",
      "include_colab_link": true
    },
    "kernelspec": {
      "name": "python3",
      "display_name": "Python 3"
    },
    "language_info": {
      "name": "python"
    }
  },
  "cells": [
    {
      "cell_type": "markdown",
      "metadata": {
        "id": "view-in-github",
        "colab_type": "text"
      },
      "source": [
        "<a href=\"https://colab.research.google.com/github/sodan97/codes/blob/main/ANN_phishing.ipynb\" target=\"_parent\"><img src=\"https://colab.research.google.com/assets/colab-badge.svg\" alt=\"Open In Colab\"/></a>"
      ]
    },
    {
      "cell_type": "markdown",
      "source": [
        "# Importing the libraries\n"
      ],
      "metadata": {
        "id": "j0xsaKRTcutW"
      }
    },
    {
      "cell_type": "code",
      "execution_count": 61,
      "metadata": {
        "id": "8dcw23g5cA1F"
      },
      "outputs": [],
      "source": [
        "import numpy as np\n",
        "import pandas as pd\n",
        "import tensorflow as tf"
      ]
    },
    {
      "cell_type": "markdown",
      "source": [
        "# Part 1: Data Preprocessing"
      ],
      "metadata": {
        "id": "wKMtle0rddDX"
      }
    },
    {
      "cell_type": "markdown",
      "source": [
        "### Importing the dataset"
      ],
      "metadata": {
        "id": "Hww5NtJZduIM"
      }
    },
    {
      "cell_type": "code",
      "source": [
        "dataset = pd.read_csv(\"/content/PhiUSIIL_Phishing_URL_Dataset.csv\")\n",
        "X = dataset.iloc[:, 4:-1].values\n",
        "y = dataset.iloc[:, -1].values\n",
        "\n",
        "#print(np.length(X))\n",
        "#print(f'cat: {X[:,2]} et {X[:,25]}')\n",
        "\n",
        "# Delete categorical variables\n",
        "delete_columns = [2, 25]\n",
        "X = np.delete(X, delete_columns, axis=1)\n",
        "#print(X)"
      ],
      "metadata": {
        "id": "NUTomPoDdnFo"
      },
      "execution_count": 62,
      "outputs": []
    },
    {
      "cell_type": "markdown",
      "source": [
        "### Splitting the dataset"
      ],
      "metadata": {
        "id": "14PTodmRnRNW"
      }
    },
    {
      "cell_type": "code",
      "source": [
        "from sklearn.model_selection import train_test_split\n",
        "X_train, X_test, y_train, y_test = train_test_split(X, y, test_size= 0.2, random_state= 0)"
      ],
      "metadata": {
        "id": "uj4wGLoRndIm"
      },
      "execution_count": 63,
      "outputs": []
    },
    {
      "cell_type": "markdown",
      "source": [
        "### Feature scaling"
      ],
      "metadata": {
        "id": "5yRoVhUnCCTc"
      }
    },
    {
      "cell_type": "code",
      "source": [
        "from sklearn.preprocessing import StandardScaler\n",
        "sc = StandardScaler()\n",
        "X_train = sc.fit_transform(X_train)\n",
        "X_test = sc.transform(X_test)\n",
        "print(f'X = {X} \\n col = {np.size(X[0])} \\n line = {np.size(X[:,0])}')\n",
        "print(f'\\n {len(X)} \\n {X_train.shape}')\n"
      ],
      "metadata": {
        "colab": {
          "base_uri": "https://localhost:8080/"
        },
        "id": "PHBerP9_CCvF",
        "outputId": "4a9a4cf7-01c8-4dc6-844e-f0e420db08fb"
      },
      "execution_count": 64,
      "outputs": [
        {
          "output_type": "stream",
          "name": "stdout",
          "text": [
            "X = [[24 0 100.0 ... 119 0 124]\n",
            " [16 0 100.0 ... 39 0 217]\n",
            " [22 0 100.0 ... 42 2 5]\n",
            " ...\n",
            " [23 0 100.0 ... 58 2 67]\n",
            " [47 0 28.15753735 ... 0 0 0]\n",
            " [26 0 100.0 ... 256 0 261]] \n",
            " col = 49 \n",
            " line = 235795\n",
            "\n",
            " 235795 \n",
            " (188636, 49)\n"
          ]
        }
      ]
    },
    {
      "cell_type": "markdown",
      "source": [
        "### Encoding categorical data"
      ],
      "metadata": {
        "id": "Q_sOuQ6Oswxn"
      }
    },
    {
      "cell_type": "markdown",
      "source": [
        "# Part 2: Building the ANN"
      ],
      "metadata": {
        "id": "3ta-JPaCLmzj"
      }
    },
    {
      "cell_type": "markdown",
      "source": [
        "### Initialization"
      ],
      "metadata": {
        "id": "cMTuoT-PLw7y"
      }
    },
    {
      "cell_type": "code",
      "source": [
        "model = tf.keras.models.Sequential()"
      ],
      "metadata": {
        "id": "QQ7ljKaWLqju"
      },
      "execution_count": 65,
      "outputs": []
    },
    {
      "cell_type": "markdown",
      "source": [
        "### [Adding the input layer and the first hidden layer]"
      ],
      "metadata": {
        "id": "5uqIGbNrL6bT"
      }
    },
    {
      "cell_type": "code",
      "source": [
        "model.add(tf.keras.layers.Dense(units=16, activation='relu'))\n",
        "model.add(tf.keras.layers.Dropout(0.5))"
      ],
      "metadata": {
        "id": "JeWNMscKL6v3"
      },
      "execution_count": 66,
      "outputs": []
    },
    {
      "cell_type": "markdown",
      "source": [
        "### Adding the second hidden layer"
      ],
      "metadata": {
        "id": "bC6fL-O5L7AB"
      }
    },
    {
      "cell_type": "code",
      "source": [
        "model.add(tf.keras.layers.Dense(units=16, activation='relu'))\n",
        "model.add(tf.keras.layers.Dropout(0.5))"
      ],
      "metadata": {
        "id": "gYzOaowvL7Nx"
      },
      "execution_count": 67,
      "outputs": []
    },
    {
      "cell_type": "markdown",
      "source": [
        "### Adding the output layer"
      ],
      "metadata": {
        "id": "zyar9N7ML7dq"
      }
    },
    {
      "cell_type": "code",
      "source": [
        "model.add(tf.keras.layers.Dense(units=1, activation='sigmoid'))"
      ],
      "metadata": {
        "id": "joU7GIKNL7tA"
      },
      "execution_count": 68,
      "outputs": []
    },
    {
      "cell_type": "markdown",
      "source": [
        "# Part 3: Training the ANN"
      ],
      "metadata": {
        "id": "LaASMIX_OXCf"
      }
    },
    {
      "cell_type": "markdown",
      "source": [
        "### Compiling the ANN"
      ],
      "metadata": {
        "id": "1uFWWkYtOhEE"
      }
    },
    {
      "cell_type": "code",
      "source": [
        "model.compile(optimizer = 'adam', loss= 'mean_squared_error', metrics=['accuracy'] )"
      ],
      "metadata": {
        "id": "9cMn3Wh5OXQn"
      },
      "execution_count": 69,
      "outputs": []
    },
    {
      "cell_type": "markdown",
      "source": [
        "### Training the ANN model on the training dataset"
      ],
      "metadata": {
        "id": "sIJrUVgqOXr2"
      }
    },
    {
      "cell_type": "code",
      "source": [
        "model.fit(X_train, y_train, batch_size= 32, epochs= 3)"
      ],
      "metadata": {
        "colab": {
          "base_uri": "https://localhost:8080/"
        },
        "id": "MbmwWDsoOX3I",
        "outputId": "d08ef412-d2dc-4b6e-b8ac-25b087ae8f83"
      },
      "execution_count": 70,
      "outputs": [
        {
          "output_type": "stream",
          "name": "stdout",
          "text": [
            "Epoch 1/3\n",
            "5895/5895 [==============================] - 13s 2ms/step - loss: 0.0129 - accuracy: 0.9838\n",
            "Epoch 2/3\n",
            "5895/5895 [==============================] - 10s 2ms/step - loss: 0.0019 - accuracy: 0.9977\n",
            "Epoch 3/3\n",
            "5895/5895 [==============================] - 11s 2ms/step - loss: 0.0016 - accuracy: 0.9980\n"
          ]
        },
        {
          "output_type": "execute_result",
          "data": {
            "text/plain": [
              "<keras.src.callbacks.History at 0x7b4fdf7b35b0>"
            ]
          },
          "metadata": {},
          "execution_count": 70
        }
      ]
    },
    {
      "cell_type": "markdown",
      "source": [
        "### Predicting the results of the Test dataset"
      ],
      "metadata": {
        "id": "kselcaZ0d7QO"
      }
    },
    {
      "cell_type": "code",
      "source": [
        "y_pred = model.predict(X_test)\n",
        "y_pred = (y_pred > 0.5)\n",
        "print(np.concatenate((y_pred.reshape(len(y_pred),1), y_test.reshape(len(y_test),1)),1))"
      ],
      "metadata": {
        "colab": {
          "base_uri": "https://localhost:8080/"
        },
        "id": "kmhxqJJ9OYNs",
        "outputId": "3372e47b-45fd-4e31-a8db-f1b71c1ffd5c"
      },
      "execution_count": 71,
      "outputs": [
        {
          "output_type": "stream",
          "name": "stdout",
          "text": [
            "1474/1474 [==============================] - 3s 2ms/step\n",
            "[[0 0]\n",
            " [1 1]\n",
            " [1 1]\n",
            " ...\n",
            " [0 0]\n",
            " [0 0]\n",
            " [0 0]]\n"
          ]
        }
      ]
    },
    {
      "cell_type": "markdown",
      "source": [
        "### Evaluating the ANN with Tensorflow\n"
      ],
      "metadata": {
        "id": "2Rdbt9m-eFEU"
      }
    },
    {
      "cell_type": "code",
      "source": [
        "loss, accuracy = model.evaluate(X_test, y_test, verbose=0)\n",
        "print(f\"Précision du modèle: {accuracy*100:.2f}%\")"
      ],
      "metadata": {
        "colab": {
          "base_uri": "https://localhost:8080/"
        },
        "id": "qtf6STIxeW_j",
        "outputId": "f83c070f-4c8e-48b5-cb2b-5ee9e7858c59"
      },
      "execution_count": 72,
      "outputs": [
        {
          "output_type": "stream",
          "name": "stdout",
          "text": [
            "Précision du modèle: 99.98%\n"
          ]
        }
      ]
    },
    {
      "cell_type": "markdown",
      "source": [
        "### Evaluating the ANN with scikitlearn\n"
      ],
      "metadata": {
        "id": "iUMbWmOcelKI"
      }
    },
    {
      "cell_type": "code",
      "source": [
        "# Making the Confusion Matrix\n",
        "from sklearn.metrics import confusion_matrix\n",
        "cm = confusion_matrix(y_test, y_pred)\n",
        "print(f\"cm = \\n {cm}\")\n",
        "# rate of successful\n",
        "pourcentage_reussite_test = (cm[0][0] + cm[1][1])/len(X_test)\n",
        "print(pourcentage_reussite_test)\n"
      ],
      "metadata": {
        "colab": {
          "base_uri": "https://localhost:8080/"
        },
        "id": "LUJ5zi2TWdII",
        "outputId": "05f8cea0-d439-4021-8de2-63941c741d44"
      },
      "execution_count": 73,
      "outputs": [
        {
          "output_type": "stream",
          "name": "stdout",
          "text": [
            "cm = \n",
            " [[20190    10]\n",
            " [    1 26958]]\n",
            "0.9997667465383065\n"
          ]
        }
      ]
    }
  ]
}